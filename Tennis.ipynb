{
 "cells": [
  {
   "cell_type": "markdown",
   "metadata": {},
   "source": [
    "# Collaboration and Competition\n",
    "\n",
    "---\n",
    "\n",
    "In this notebook, you will learn how to use the Unity ML-Agents environment for the third project of the [Deep Reinforcement Learning Nanodegree](https://www.udacity.com/course/deep-reinforcement-learning-nanodegree--nd893) program.\n",
    "\n",
    "### 1. Start the Environment\n",
    "\n",
    "We begin by importing the necessary packages.  If the code cell below returns an error, please revisit the project instructions to double-check that you have installed [Unity ML-Agents](https://github.com/Unity-Technologies/ml-agents/blob/master/docs/Installation.md) and [NumPy](http://www.numpy.org/)."
   ]
  },
  {
   "cell_type": "code",
   "execution_count": 1,
   "metadata": {},
   "outputs": [],
   "source": [
    "from unityagents import UnityEnvironment\n",
    "import numpy as np\n",
    "import torch\n",
    "import random"
   ]
  },
  {
   "cell_type": "markdown",
   "metadata": {},
   "source": [
    "Next, we will start the environment!  **_Before running the code cell below_**, change the `file_name` parameter to match the location of the Unity environment that you downloaded.\n",
    "\n",
    "- **Mac**: `\"path/to/Tennis.app\"`\n",
    "- **Windows** (x86): `\"path/to/Tennis_Windows_x86/Tennis.exe\"`\n",
    "- **Windows** (x86_64): `\"path/to/Tennis_Windows_x86_64/Tennis.exe\"`\n",
    "- **Linux** (x86): `\"path/to/Tennis_Linux/Tennis.x86\"`\n",
    "- **Linux** (x86_64): `\"path/to/Tennis_Linux/Tennis.x86_64\"`\n",
    "- **Linux** (x86, headless): `\"path/to/Tennis_Linux_NoVis/Tennis.x86\"`\n",
    "- **Linux** (x86_64, headless): `\"path/to/Tennis_Linux_NoVis/Tennis.x86_64\"`\n",
    "\n",
    "For instance, if you are using a Mac, then you downloaded `Tennis.app`.  If this file is in the same folder as the notebook, then the line below should appear as follows:\n",
    "```\n",
    "env = UnityEnvironment(file_name=\"Tennis.app\")\n",
    "```"
   ]
  },
  {
   "cell_type": "code",
   "execution_count": 2,
   "metadata": {},
   "outputs": [
    {
     "name": "stderr",
     "output_type": "stream",
     "text": [
      "INFO:unityagents:\n",
      "'Academy' started successfully!\n",
      "Unity Academy name: Academy\n",
      "        Number of Brains: 1\n",
      "        Number of External Brains : 1\n",
      "        Lesson number : 0\n",
      "        Reset Parameters :\n",
      "\t\t\n",
      "Unity brain name: TennisBrain\n",
      "        Number of Visual Observations (per agent): 0\n",
      "        Vector Observation space type: continuous\n",
      "        Vector Observation space size (per agent): 8\n",
      "        Number of stacked Vector Observation: 3\n",
      "        Vector Action space type: continuous\n",
      "        Vector Action space size (per agent): 2\n",
      "        Vector Action descriptions: , \n"
     ]
    }
   ],
   "source": [
    "seed = 0\n",
    "torch.manual_seed(seed)\n",
    "random.seed(seed)\n",
    "np.random.seed(seed)\n",
    "\n",
    "env = UnityEnvironment(seed=seed, file_name=\"Tennis_Linux/Tennis.x86_64\") "
   ]
  },
  {
   "cell_type": "markdown",
   "metadata": {},
   "source": [
    "Environments contain **_brains_** which are responsible for deciding the actions of their associated agents. Here we check for the first brain available, and set it as the default brain we will be controlling from Python."
   ]
  },
  {
   "cell_type": "code",
   "execution_count": 3,
   "metadata": {},
   "outputs": [],
   "source": [
    "# get the default brain\n",
    "brain_name = env.brain_names[0]\n",
    "brain = env.brains[brain_name]"
   ]
  },
  {
   "cell_type": "markdown",
   "metadata": {},
   "source": [
    "### 2. Examine the State and Action Spaces\n",
    "\n",
    "In this environment, two agents control rackets to bounce a ball over a net. If an agent hits the ball over the net, it receives a reward of +0.1.  If an agent lets a ball hit the ground or hits the ball out of bounds, it receives a reward of -0.01.  Thus, the goal of each agent is to keep the ball in play.\n",
    "\n",
    "The observation space consists of 8 variables corresponding to the position and velocity of the ball and racket. Two continuous actions are available, corresponding to movement toward (or away from) the net, and jumping. \n",
    "\n",
    "Run the code cell below to print some information about the environment."
   ]
  },
  {
   "cell_type": "code",
   "execution_count": 4,
   "metadata": {},
   "outputs": [
    {
     "name": "stdout",
     "output_type": "stream",
     "text": [
      "Number of agents: 2\n",
      "Size of each action: 2\n",
      "There are 2 agents. Each observes a state with length: 24\n",
      "The state for the first agent looks like: [ 0.          0.          0.          0.          0.          0.\n",
      "  0.          0.          0.          0.          0.          0.\n",
      "  0.          0.          0.          0.         -6.65278625 -1.5\n",
      " -0.          0.          6.83172083  6.         -0.          0.        ]\n"
     ]
    }
   ],
   "source": [
    "# reset the environment\n",
    "env_info = env.reset(train_mode=True)[brain_name]\n",
    "\n",
    "# number of agents \n",
    "num_agents = len(env_info.agents)\n",
    "print('Number of agents:', num_agents)\n",
    "\n",
    "# size of each action\n",
    "action_size = brain.vector_action_space_size\n",
    "print('Size of each action:', action_size)\n",
    "\n",
    "# examine the state space \n",
    "states = env_info.vector_observations\n",
    "state_size = states.shape[1]\n",
    "print('There are {} agents. Each observes a state with length: {}'.format(states.shape[0], state_size))\n",
    "print('The state for the first agent looks like:', states[0])"
   ]
  },
  {
   "cell_type": "markdown",
   "metadata": {},
   "source": [
    "### 3. Take Random Actions in the Environment\n",
    "\n",
    "In the next code cell, you will learn how to use the Python API to control the agents and receive feedback from the environment.\n",
    "\n",
    "Once this cell is executed, you will watch the agents' performance, if they select actions at random with each time step.  A window should pop up that allows you to observe the agents.\n",
    "\n",
    "Of course, as part of the project, you'll have to change the code so that the agents are able to use their experiences to gradually choose better actions when interacting with the environment!"
   ]
  },
  {
   "cell_type": "code",
   "execution_count": 5,
   "metadata": {},
   "outputs": [],
   "source": [
    "for i in range(1, 6):                                      # play game for 5 episodes\n",
    "    env_info = env.reset(train_mode=False)[brain_name]     # reset the environment    \n",
    "    states = env_info.vector_observations                  # get the current state (for each agent)\n",
    "    scores = np.zeros(num_agents)                          # initialize the score (for each agent)\n",
    "    while True:\n",
    "        actions = np.random.randn(num_agents, action_size) # select an action (for each agent)\n",
    "        actions = np.clip(actions, -1, 1)                  # all actions between -1 and 1\n",
    "        env_info = env.step(actions)[brain_name]           # send all actions to tne environment\n",
    "        next_states = env_info.vector_observations         # get next state (for each agent)\n",
    "        rewards = env_info.rewards                         # get reward (for each agent)\n",
    "        dones = env_info.local_done                        # see if episode finished\n",
    "        scores += env_info.rewards                         # update the score (for each agent)\n",
    "        states = next_states                               # roll over states to next time step\n",
    "        if np.any(dones):                                  # exit loop if episode finished\n",
    "            break\n",
    "    print('Score (max over agents) from episode {}: {}'.format(i, np.max(scores)))"
   ]
  },
  {
   "cell_type": "markdown",
   "metadata": {},
   "source": [
    "When finished, you can close the environment."
   ]
  },
  {
   "cell_type": "markdown",
   "metadata": {},
   "source": [
    "### 4. Training phase"
   ]
  },
  {
   "cell_type": "code",
   "execution_count": 6,
   "metadata": {
    "scrolled": true
   },
   "outputs": [],
   "source": [
    "from maddpg import maddpg_agent\n",
    "maddpg = maddpg_agent() "
   ]
  },
  {
   "cell_type": "code",
   "execution_count": 7,
   "metadata": {
    "scrolled": true
   },
   "outputs": [
    {
     "name": "stdout",
     "output_type": "stream",
     "text": [
      "Episode: 20, Score: -0.0050, \tAverage Score: -0.0050, Time: 00:00:00 \n",
      "Episode: 40, Score: -0.0050, \tAverage Score: -0.0050, Time: 00:00:01 \n",
      "Episode: 60, Score: -0.0050, \tAverage Score: -0.0050, Time: 00:00:05 \n",
      "Episode: 80, Score: -0.0050, \tAverage Score: -0.0050, Time: 00:00:08 \n",
      "Episode: 100, Score: 0.0450, \tAverage Score: -0.0045, Time: 00:00:12 \n",
      "Episode: 120, Score: -0.0050, \tAverage Score: -0.0045, Time: 00:00:16 \n",
      "Episode: 140, Score: -0.0050, \tAverage Score: -0.0045, Time: 00:00:19 \n",
      "Episode: 160, Score: -0.0050, \tAverage Score: -0.0045, Time: 00:00:23 \n",
      "Episode: 180, Score: -0.0050, \tAverage Score: -0.0045, Time: 00:00:26 \n",
      "Episode: 200, Score: -0.0050, \tAverage Score: -0.0050, Time: 00:00:30 \n",
      "Episode: 220, Score: -0.0050, \tAverage Score: -0.0050, Time: 00:00:34 \n",
      "Episode: 240, Score: -0.0050, \tAverage Score: -0.0050, Time: 00:00:38 \n",
      "Episode: 260, Score: -0.0050, \tAverage Score: -0.0050, Time: 00:00:41 \n",
      "Episode: 280, Score: -0.0050, \tAverage Score: -0.0050, Time: 00:00:45 \n",
      "Episode: 300, Score: -0.0050, \tAverage Score: -0.0050, Time: 00:00:48 \n",
      "Episode: 320, Score: -0.0050, \tAverage Score: -0.0050, Time: 00:00:52 \n",
      "Episode: 340, Score: -0.0050, \tAverage Score: -0.0050, Time: 00:00:56 \n",
      "Episode: 360, Score: -0.0050, \tAverage Score: -0.0050, Time: 00:00:59 \n",
      "Episode: 380, Score: -0.0050, \tAverage Score: -0.0050, Time: 00:01:03 \n",
      "Episode: 400, Score: -0.0050, \tAverage Score: -0.0050, Time: 00:01:06 \n",
      "Episode: 420, Score: -0.0050, \tAverage Score: -0.0050, Time: 00:01:10 \n",
      "Episode: 440, Score: -0.0050, \tAverage Score: -0.0050, Time: 00:01:14 \n",
      "Episode: 460, Score: -0.0050, \tAverage Score: -0.0050, Time: 00:01:17 \n",
      "Episode: 480, Score: -0.0050, \tAverage Score: -0.0050, Time: 00:01:21 \n",
      "Episode: 500, Score: -0.0050, \tAverage Score: -0.0040, Time: 00:01:25 \n",
      "Episode: 520, Score: -0.0050, \tAverage Score: -0.0030, Time: 00:01:30 \n",
      "Episode: 540, Score: -0.0050, \tAverage Score: -0.0025, Time: 00:01:34 \n",
      "Episode: 560, Score: 0.0450, \tAverage Score: -0.0015, Time: 00:01:39 \n",
      "Episode: 580, Score: -0.0050, \tAverage Score: -0.0010, Time: 00:01:42 \n",
      "Episode: 600, Score: 0.0450, \tAverage Score: -0.0005, Time: 00:01:47 \n",
      "Episode: 620, Score: -0.0050, \tAverage Score: -0.0005, Time: 00:01:51 \n",
      "Episode: 640, Score: -0.0050, \tAverage Score: -0.0010, Time: 00:01:54 \n",
      "Episode: 660, Score: -0.0050, \tAverage Score: -0.0010, Time: 00:01:58 \n",
      "Episode: 680, Score: -0.0050, \tAverage Score: -0.0005, Time: 00:02:02 \n",
      "Episode: 700, Score: -0.0050, \tAverage Score: -0.0020, Time: 00:02:06 \n",
      "Episode: 720, Score: -0.0050, \tAverage Score: -0.0015, Time: 00:02:10 \n",
      "Episode: 740, Score: -0.0050, \tAverage Score: -0.0015, Time: 00:02:14 \n",
      "Episode: 760, Score: -0.0050, \tAverage Score: -0.0025, Time: 00:02:18 \n",
      "Episode: 780, Score: -0.0050, \tAverage Score: -0.0035, Time: 00:02:22 \n",
      "Episode: 800, Score: -0.0050, \tAverage Score: -0.0035, Time: 00:02:25 \n",
      "Episode: 820, Score: -0.0050, \tAverage Score: -0.0050, Time: 00:02:29 \n",
      "Episode: 840, Score: -0.0050, \tAverage Score: -0.0040, Time: 00:02:33 \n",
      "Episode: 860, Score: -0.0050, \tAverage Score: -0.0035, Time: 00:02:38 \n",
      "Episode: 880, Score: -0.0050, \tAverage Score: -0.0030, Time: 00:02:42 \n",
      "Episode: 900, Score: -0.0050, \tAverage Score: -0.0005, Time: 00:02:47 \n",
      "Episode: 920, Score: -0.0050, \tAverage Score: 0.0000, Time: 00:02:51 \n",
      "Episode: 940, Score: -0.0050, \tAverage Score: -0.0005, Time: 00:02:55 \n",
      "Episode: 960, Score: 0.0450, \tAverage Score: -0.0005, Time: 00:02:59 \n",
      "Episode: 980, Score: -0.0050, \tAverage Score: 0.0000, Time: 00:03:03 \n",
      "Episode: 1000, Score: -0.0050, \tAverage Score: -0.0015, Time: 00:03:08 \n",
      "Episode: 1020, Score: 0.0450, \tAverage Score: -0.0005, Time: 00:03:12 \n",
      "Episode: 1040, Score: -0.0050, \tAverage Score: 0.0000, Time: 00:03:16 \n",
      "Episode: 1060, Score: -0.0050, \tAverage Score: -0.0005, Time: 00:03:20 \n",
      "Episode: 1080, Score: -0.0050, \tAverage Score: -0.0005, Time: 00:03:25 \n",
      "Episode: 1100, Score: -0.0050, \tAverage Score: 0.0005, Time: 00:03:30 \n",
      "Episode: 1120, Score: -0.0050, \tAverage Score: -0.0005, Time: 00:03:34 \n",
      "Episode: 1140, Score: -0.0050, \tAverage Score: -0.0015, Time: 00:03:38 \n",
      "Episode: 1160, Score: -0.0050, \tAverage Score: 0.0015, Time: 00:03:43 \n",
      "Episode: 1180, Score: -0.0050, \tAverage Score: 0.0090, Time: 00:03:50 \n",
      "Episode: 1200, Score: -0.0050, \tAverage Score: 0.0135, Time: 00:03:57 \n",
      "Episode: 1220, Score: 0.0450, \tAverage Score: 0.0195, Time: 00:04:04 \n",
      "Episode: 1240, Score: 0.0450, \tAverage Score: 0.0250, Time: 00:04:10 \n",
      "Episode: 1260, Score: -0.0050, \tAverage Score: 0.0275, Time: 00:04:16 \n",
      "Episode: 1280, Score: -0.0050, \tAverage Score: 0.0210, Time: 00:04:21 \n",
      "Episode: 1300, Score: -0.0050, \tAverage Score: 0.0205, Time: 00:04:27 \n",
      "Episode: 1320, Score: -0.0050, \tAverage Score: 0.0185, Time: 00:04:33 \n",
      "Episode: 1340, Score: 0.0450, \tAverage Score: 0.0190, Time: 00:04:40 \n",
      "Episode: 1360, Score: -0.0050, \tAverage Score: 0.0170, Time: 00:04:45 \n",
      "Episode: 1380, Score: 0.0950, \tAverage Score: 0.0225, Time: 00:04:52 \n",
      "Episode: 1400, Score: -0.0050, \tAverage Score: 0.0265, Time: 00:05:01 \n",
      "Episode: 1420, Score: 0.0450, \tAverage Score: 0.0285, Time: 00:05:08 \n",
      "Episode: 1440, Score: 0.0950, \tAverage Score: 0.0340, Time: 00:05:18 \n",
      "Episode: 1460, Score: 0.0950, \tAverage Score: 0.0370, Time: 00:05:24 \n",
      "Episode: 1480, Score: 0.0450, \tAverage Score: 0.0365, Time: 00:05:31 \n",
      "Episode: 1500, Score: -0.0050, \tAverage Score: 0.0335, Time: 00:05:39 \n",
      "Episode: 1520, Score: -0.0050, \tAverage Score: 0.0325, Time: 00:05:45 \n",
      "Episode: 1540, Score: 0.0450, \tAverage Score: 0.0315, Time: 00:05:54 \n",
      "Episode: 1560, Score: 0.0450, \tAverage Score: 0.0350, Time: 00:06:02 \n",
      "Episode: 1580, Score: 0.0450, \tAverage Score: 0.0365, Time: 00:06:10 \n",
      "Episode: 1600, Score: -0.0050, \tAverage Score: 0.0385, Time: 00:06:18 \n",
      "Episode: 1620, Score: 0.0450, \tAverage Score: 0.0420, Time: 00:06:26 \n",
      "Episode: 1640, Score: -0.0050, \tAverage Score: 0.0400, Time: 00:06:33 \n",
      "Episode: 1660, Score: 0.0450, \tAverage Score: 0.0415, Time: 00:06:42 \n",
      "Episode: 1680, Score: 0.0450, \tAverage Score: 0.0430, Time: 00:06:51 \n",
      "Episode: 1700, Score: -0.0050, \tAverage Score: 0.0450, Time: 00:07:00 \n",
      "Episode: 1720, Score: 0.0450, \tAverage Score: 0.0460, Time: 00:07:09 \n",
      "Episode: 1740, Score: 0.0450, \tAverage Score: 0.0465, Time: 00:07:17 \n",
      "Episode: 1760, Score: 0.4950, \tAverage Score: 0.0530, Time: 00:07:30 \n",
      "Episode: 1780, Score: 0.0950, \tAverage Score: 0.0540, Time: 00:07:39 \n",
      "Episode: 1800, Score: -0.0050, \tAverage Score: 0.0590, Time: 00:07:50 \n",
      "Episode: 1820, Score: 0.0450, \tAverage Score: 0.0620, Time: 00:08:00 \n",
      "Episode: 1840, Score: 0.0450, \tAverage Score: 0.0680, Time: 00:08:12 \n",
      "Episode: 1860, Score: 0.0450, \tAverage Score: 0.0610, Time: 00:08:21 \n",
      "Episode: 1880, Score: 0.0450, \tAverage Score: 0.0580, Time: 00:08:29 \n",
      "Episode: 1900, Score: 0.1950, \tAverage Score: 0.0550, Time: 00:08:39 \n",
      "Episode: 1920, Score: 0.0450, \tAverage Score: 0.0545, Time: 00:08:49 \n",
      "Episode: 1940, Score: -0.0050, \tAverage Score: 0.0500, Time: 00:08:58 \n",
      "Episode: 1960, Score: -0.0050, \tAverage Score: 0.0565, Time: 00:09:10 \n",
      "Episode: 1980, Score: 0.1450, \tAverage Score: 0.0615, Time: 00:09:21 \n",
      "Episode: 2000, Score: 0.0450, \tAverage Score: 0.0640, Time: 00:09:33 \n",
      "Episode: 2020, Score: 0.0950, \tAverage Score: 0.0680, Time: 00:09:45 \n",
      "Episode: 2040, Score: 0.0450, \tAverage Score: 0.0660, Time: 00:09:53 \n",
      "Episode: 2060, Score: 0.0450, \tAverage Score: 0.0665, Time: 00:10:07 \n",
      "Episode: 2080, Score: 0.0950, \tAverage Score: 0.0665, Time: 00:10:17 \n",
      "Episode: 2100, Score: 0.1450, \tAverage Score: 0.0605, Time: 00:10:26 \n",
      "Episode: 2120, Score: 0.0450, \tAverage Score: 0.0625, Time: 00:10:40 \n",
      "Episode: 2140, Score: 0.0950, \tAverage Score: 0.0705, Time: 00:10:52 \n",
      "Episode: 2160, Score: -0.0050, \tAverage Score: 0.0685, Time: 00:11:04 \n",
      "Episode: 2180, Score: 0.0450, \tAverage Score: 0.0670, Time: 00:11:13 \n",
      "Episode: 2200, Score: 0.0450, \tAverage Score: 0.0675, Time: 00:11:22 \n",
      "Episode: 2220, Score: 0.0450, \tAverage Score: 0.0600, Time: 00:11:31 \n",
      "Episode: 2240, Score: 0.0950, \tAverage Score: 0.0615, Time: 00:11:44 \n",
      "Episode: 2260, Score: 0.1450, \tAverage Score: 0.0585, Time: 00:11:54 \n",
      "Episode: 2280, Score: 0.0450, \tAverage Score: 0.0645, Time: 00:12:07 \n",
      "Episode: 2300, Score: 0.0950, \tAverage Score: 0.0680, Time: 00:12:19 \n",
      "Episode: 2320, Score: 0.0450, \tAverage Score: 0.0740, Time: 00:12:31 \n",
      "Episode: 2340, Score: 0.3950, \tAverage Score: 0.0755, Time: 00:12:45 \n"
     ]
    },
    {
     "name": "stdout",
     "output_type": "stream",
     "text": [
      "Episode: 2360, Score: 0.1450, \tAverage Score: 0.0760, Time: 00:12:56 \n",
      "Episode: 2380, Score: 0.2450, \tAverage Score: 0.0815, Time: 00:13:12 \n",
      "Episode: 2400, Score: 0.1950, \tAverage Score: 0.0940, Time: 00:13:29 \n",
      "Episode: 2420, Score: 0.2950, \tAverage Score: 0.0955, Time: 00:13:42 \n",
      "Episode: 2440, Score: 0.0450, \tAverage Score: 0.1010, Time: 00:13:59 \n",
      "Episode: 2460, Score: 0.0450, \tAverage Score: 0.1015, Time: 00:14:10 \n",
      "Episode: 2480, Score: 0.0450, \tAverage Score: 0.0935, Time: 00:14:21 \n",
      "Episode: 2500, Score: 0.3950, \tAverage Score: 0.0835, Time: 00:14:33 \n",
      "Episode: 2520, Score: 0.1950, \tAverage Score: 0.0920, Time: 00:14:51 \n",
      "Episode: 2540, Score: 0.1450, \tAverage Score: 0.0985, Time: 00:15:12 \n",
      "Episode: 2560, Score: 0.2450, \tAverage Score: 0.1150, Time: 00:15:32 \n",
      "Episode: 2580, Score: 0.0450, \tAverage Score: 0.1215, Time: 00:15:46 \n",
      "Episode: 2600, Score: 0.1450, \tAverage Score: 0.1380, Time: 00:16:06 \n",
      "Episode: 2620, Score: -0.0050, \tAverage Score: 0.1325, Time: 00:16:22 \n",
      "Episode: 2640, Score: 0.0950, \tAverage Score: 0.1390, Time: 00:16:46 \n",
      "Episode: 2660, Score: 0.1950, \tAverage Score: 0.1375, Time: 00:17:04 \n",
      "Episode: 2680, Score: 0.0450, \tAverage Score: 0.1405, Time: 00:17:20 \n",
      "Episode: 2700, Score: 0.0450, \tAverage Score: 0.1525, Time: 00:17:48 \n",
      "Episode: 2720, Score: 0.1450, \tAverage Score: 0.1630, Time: 00:18:08 \n",
      "Episode: 2740, Score: 0.0950, \tAverage Score: 0.1690, Time: 00:18:36 \n",
      "Episode: 2760, Score: 0.0450, \tAverage Score: 0.2135, Time: 00:19:18 \n",
      "Episode: 2780, Score: 0.0950, \tAverage Score: 0.2225, Time: 00:19:40 \n",
      "Episode: 2800, Score: 0.0950, \tAverage Score: 0.2230, Time: 00:20:07 \n",
      "Episode: 2820, Score: 0.4950, \tAverage Score: 0.2901, Time: 00:21:02 \n",
      "Episode: 2840, Score: 1.1450, \tAverage Score: 0.3556, Time: 00:22:04 \n",
      "Episode: 2860, Score: 0.9450, \tAverage Score: 0.3851, Time: 00:23:02 \n",
      "Episode: 2880, Score: 1.9450, \tAverage Score: 0.4796, Time: 00:24:13 \n",
      "\n",
      "*** Environment solved in 2883 episodes!\tAverage Score: 0.50 ***\n",
      "\n"
     ]
    }
   ],
   "source": [
    "from collections import deque\n",
    "import time\n",
    "\n",
    "def train(maddpg, env, n_episodes=1000, save_every=50):\n",
    "    \n",
    "    scores_total = []\n",
    "    scores_deque = deque(maxlen=100)\n",
    "    scores_global = []\n",
    "    best_score = 0.0\n",
    "    time_start = time.time()\n",
    "    \n",
    "    # Environment information\n",
    "    brain_name = env.brain_names[0]\n",
    "\n",
    "    # Used for learning period to update the model weights\n",
    "    global_step_number = 0\n",
    "    \n",
    "    for i_episode in range(1, n_episodes+1):\n",
    "        \n",
    "        env_info = env.reset(train_mode=True)[brain_name]\n",
    "        states = env_info.vector_observations\n",
    "                    \n",
    "        scores = np.zeros(num_agents)\n",
    "        maddpg.reset()\n",
    "\n",
    "        while True:\n",
    "            actions = maddpg.act(states)\n",
    "\n",
    "            env_info = env.step(actions)[brain_name]\n",
    "            next_states = env_info.vector_observations\n",
    "            rewards = env_info.rewards\n",
    "            dones = env_info.local_done\n",
    "            \n",
    "            global_step_number += 1\n",
    "            maddpg.step(states, actions, rewards, next_states, dones, global_step_number)\n",
    "\n",
    "            scores += rewards\n",
    "            states = next_states\n",
    "\n",
    "            if np.any(dones):\n",
    "                break\n",
    "        \n",
    "        mean_score = np.mean(scores) # mean on 2 agents\n",
    "        scores_total.append(mean_score)\n",
    "        scores_deque.append(mean_score) # mean on 2 agents for 100 episodes\n",
    "        score_average_100epis = np.mean(scores_deque) # value = mean on 100 episodes \n",
    "        scores_global.append(score_average_100epis) # \n",
    "        \n",
    "        print_every = 20\n",
    "        if i_episode % print_every == 0:\n",
    "            s = (int)(time.time() - time_start)\n",
    "            print('Episode: {}, Score: {:.4f}, \\tAverage Score: {:.4f}, Time: {:02}:{:02}:{:02} '\\\n",
    "                 .format(i_episode, mean_score,  score_average_100epis, s//3600, s%3600//60, s%60))\n",
    "\n",
    "        if score_average_100epis >= 0.5:\n",
    "            print('\\n*** Environment solved in {:d} episodes!\\tAverage Score: {:.2f} ***\\n'.format(\n",
    "                i_episode, score_average_100epis))\n",
    "            maddpg.save(i_episode)\n",
    "            best_score = score_average_100epis\n",
    "            break\n",
    "\n",
    "\n",
    "    return scores_total, scores_global\n",
    "\n",
    "scores_total, scores_global = train(maddpg, env, n_episodes=50000)"
   ]
  },
  {
   "cell_type": "markdown",
   "metadata": {},
   "source": [
    "### 5. Plot the  training results"
   ]
  },
  {
   "cell_type": "code",
   "execution_count": 8,
   "metadata": {},
   "outputs": [
    {
     "data": {
      "image/png": "[encoded data removed]",
      "text/plain": [
       "<Figure size 432x288 with 1 Axes>"
      ]
     },
     "metadata": {
      "needs_background": "light"
     },
     "output_type": "display_data"
    },
    {
     "name": "stdout",
     "output_type": "stream",
     "text": [
      "len of scores_total:  2883 \n",
      "len of score_global:  2883\n"
     ]
    }
   ],
   "source": [
    "import matplotlib.pyplot as plt\n",
    "import numpy as np\n",
    "%matplotlib inline\n",
    "\n",
    "fig = plt.figure()\n",
    "ax = fig.add_subplot(111)\n",
    "\n",
    "plt.plot(np.arange(1, len(scores_total) + 1), scores_total, label=\"Max Score\")\n",
    "plt.plot(np.arange(1, len(scores_global) + 1), \n",
    "    scores_global, label=\"Avg on 100 episodes\") \n",
    "# This line indicates the score at which the environment is considered solved\n",
    "plt.axhline(y=0.5, color=\"r\",  label=\"Environment Solved\") \n",
    "\n",
    "plt.legend(bbox_to_anchor=(1.05, 1)) \n",
    "plt.ylabel(\"Score\")\n",
    "plt.xlabel(\"Episode # \")\n",
    "plt.show()\n",
    "\n",
    "print('len of scores_total: ', len(scores_total), '\\nlen of score_global: ',\\\n",
    "    len(scores_global))"
   ]
  },
  {
   "cell_type": "code",
   "execution_count": 9,
   "metadata": {},
   "outputs": [],
   "source": [
    "env.close()"
   ]
  }
 ],
 "metadata": {
  "kernelspec": {
   "display_name": "Python 3",
   "language": "python",
   "name": "python3"
  },
  "language_info": {
   "codemirror_mode": {
    "name": "ipython",
    "version": 3
   },
   "file_extension": ".py",
   "mimetype": "text/x-python",
   "name": "python",
   "nbconvert_exporter": "python",
   "pygments_lexer": "ipython3",
   "version": "3.6.12"
  }
 },
 "nbformat": 4,
 "nbformat_minor": 2
}
