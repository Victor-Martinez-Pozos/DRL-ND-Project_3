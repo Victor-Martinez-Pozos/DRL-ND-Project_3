{
 "cells": [
  {
   "cell_type": "markdown",
   "metadata": {},
   "source": [
    "# Collaboration and Competition\n",
    "\n",
    "---\n",
    "\n",
    "In this notebook, you will learn how to use the Unity ML-Agents environment for the third project of the [Deep Reinforcement Learning Nanodegree](https://www.udacity.com/course/deep-reinforcement-learning-nanodegree--nd893) program.\n",
    "\n",
    "### 1. Start the Environment\n",
    "\n",
    "We begin by importing the necessary packages.  If the code cell below returns an error, please revisit the project instructions to double-check that you have installed [Unity ML-Agents](https://github.com/Unity-Technologies/ml-agents/blob/master/docs/Installation.md) and [NumPy](http://www.numpy.org/)."
   ]
  },
  {
   "cell_type": "code",
   "execution_count": 1,
   "metadata": {},
   "outputs": [],
   "source": [
    "from unityagents import UnityEnvironment\n",
    "import numpy as np\n",
    "import torch\n",
    "import random"
   ]
  },
  {
   "cell_type": "markdown",
   "metadata": {},
   "source": [
    "Next, we will start the environment!  **_Before running the code cell below_**, change the `file_name` parameter to match the location of the Unity environment that you downloaded.\n",
    "\n",
    "- **Mac**: `\"path/to/Tennis.app\"`\n",
    "- **Windows** (x86): `\"path/to/Tennis_Windows_x86/Tennis.exe\"`\n",
    "- **Windows** (x86_64): `\"path/to/Tennis_Windows_x86_64/Tennis.exe\"`\n",
    "- **Linux** (x86): `\"path/to/Tennis_Linux/Tennis.x86\"`\n",
    "- **Linux** (x86_64): `\"path/to/Tennis_Linux/Tennis.x86_64\"`\n",
    "- **Linux** (x86, headless): `\"path/to/Tennis_Linux_NoVis/Tennis.x86\"`\n",
    "- **Linux** (x86_64, headless): `\"path/to/Tennis_Linux_NoVis/Tennis.x86_64\"`\n",
    "\n",
    "For instance, if you are using a Mac, then you downloaded `Tennis.app`.  If this file is in the same folder as the notebook, then the line below should appear as follows:\n",
    "```\n",
    "env = UnityEnvironment(file_name=\"Tennis.app\")\n",
    "```"
   ]
  },
  {
   "cell_type": "code",
   "execution_count": 2,
   "metadata": {},
   "outputs": [
    {
     "name": "stderr",
     "output_type": "stream",
     "text": [
      "INFO:unityagents:\n",
      "'Academy' started successfully!\n",
      "Unity Academy name: Academy\n",
      "        Number of Brains: 1\n",
      "        Number of External Brains : 1\n",
      "        Lesson number : 0\n",
      "        Reset Parameters :\n",
      "\t\t\n",
      "Unity brain name: TennisBrain\n",
      "        Number of Visual Observations (per agent): 0\n",
      "        Vector Observation space type: continuous\n",
      "        Vector Observation space size (per agent): 8\n",
      "        Number of stacked Vector Observation: 3\n",
      "        Vector Action space type: continuous\n",
      "        Vector Action space size (per agent): 2\n",
      "        Vector Action descriptions: , \n"
     ]
    }
   ],
   "source": [
    "seed = 0\n",
    "torch.manual_seed(seed)\n",
    "random.seed(seed)\n",
    "np.random.seed(seed)\n",
    "env = UnityEnvironment(seed=seed, file_name=\"Tennis_Linux/Tennis.x86_64\")"
   ]
  },
  {
   "cell_type": "markdown",
   "metadata": {},
   "source": [
    "Environments contain **_brains_** which are responsible for deciding the actions of their associated agents. Here we check for the first brain available, and set it as the default brain we will be controlling from Python."
   ]
  },
  {
   "cell_type": "code",
   "execution_count": 3,
   "metadata": {},
   "outputs": [],
   "source": [
    "# get the default brain\n",
    "brain_name = env.brain_names[0]\n",
    "brain = env.brains[brain_name]"
   ]
  },
  {
   "cell_type": "markdown",
   "metadata": {},
   "source": [
    "### 2. Examine the State and Action Spaces\n",
    "\n",
    "In this environment, two agents control rackets to bounce a ball over a net. If an agent hits the ball over the net, it receives a reward of +0.1.  If an agent lets a ball hit the ground or hits the ball out of bounds, it receives a reward of -0.01.  Thus, the goal of each agent is to keep the ball in play.\n",
    "\n",
    "The observation space consists of 8 variables corresponding to the position and velocity of the ball and racket. Two continuous actions are available, corresponding to movement toward (or away from) the net, and jumping. \n",
    "\n",
    "Run the code cell below to print some information about the environment."
   ]
  },
  {
   "cell_type": "code",
   "execution_count": 4,
   "metadata": {},
   "outputs": [
    {
     "name": "stdout",
     "output_type": "stream",
     "text": [
      "Number of agents: 2\n",
      "Size of each action: 2\n",
      "There are 2 agents. Each observes a state with length: 24\n",
      "The state for the first agent looks like: [ 0.          0.          0.          0.          0.          0.\n",
      "  0.          0.          0.          0.          0.          0.\n",
      "  0.          0.          0.          0.         -6.65278625 -1.5\n",
      " -0.          0.          6.83172083  6.         -0.          0.        ]\n"
     ]
    }
   ],
   "source": [
    "# reset the environment\n",
    "env_info = env.reset(train_mode=True)[brain_name]\n",
    "\n",
    "# number of agents \n",
    "num_agents = len(env_info.agents)\n",
    "print('Number of agents:', num_agents)\n",
    "\n",
    "# size of each action\n",
    "action_size = brain.vector_action_space_size\n",
    "print('Size of each action:', action_size)\n",
    "\n",
    "# examine the state space \n",
    "states = env_info.vector_observations\n",
    "state_size = states.shape[1]\n",
    "print('There are {} agents. Each observes a state with length: {}'.format(states.shape[0], state_size))\n",
    "print('The state for the first agent looks like:', states[0])"
   ]
  },
  {
   "cell_type": "markdown",
   "metadata": {},
   "source": [
    "### 3. Take Random Actions in the Environment\n",
    "\n",
    "In the next code cell, you will learn how to use the Python API to control the agents and receive feedback from the environment.\n",
    "\n",
    "Once this cell is executed, you will watch the agents' performance, if they select actions at random with each time step.  A window should pop up that allows you to observe the agents.\n",
    "\n",
    "Of course, as part of the project, you'll have to change the code so that the agents are able to use their experiences to gradually choose better actions when interacting with the environment!"
   ]
  },
  {
   "cell_type": "code",
   "execution_count": 5,
   "metadata": {},
   "outputs": [],
   "source": [
    "for i in range(6, 6):                                      # play game for 5 episodes\n",
    "    env_info = env.reset(train_mode=False)[brain_name]     # reset the environment    \n",
    "    states = env_info.vector_observations                  # get the current state (for each agent)\n",
    "    scores = np.zeros(num_agents)                          # initialize the score (for each agent)\n",
    "    while True:\n",
    "        actions = np.random.randn(num_agents, action_size) # select an action (for each agent)\n",
    "        actions = np.clip(actions, -1, 1)                  # all actions between -1 and 1\n",
    "        env_info = env.step(actions)[brain_name]           # send all actions to tne environment\n",
    "        next_states = env_info.vector_observations         # get next state (for each agent)\n",
    "        rewards = env_info.rewards                         # get reward (for each agent)\n",
    "        dones = env_info.local_done                        # see if episode finished\n",
    "        scores += env_info.rewards                         # update the score (for each agent)\n",
    "        states = next_states                               # roll over states to next time step\n",
    "        if np.any(dones):                                  # exit loop if episode finished\n",
    "            break\n",
    "    print('Score (max over agents) from episode {}: {}'.format(i, np.max(scores)))"
   ]
  },
  {
   "cell_type": "markdown",
   "metadata": {},
   "source": [
    "When finished, you can close the environment."
   ]
  },
  {
   "cell_type": "markdown",
   "metadata": {},
   "source": [
    "### 4. Training phase"
   ]
  },
  {
   "cell_type": "code",
   "execution_count": 6,
   "metadata": {
    "scrolled": true
   },
   "outputs": [],
   "source": [
    "from maddpg import maddpg_agent\n",
    "maddpg = maddpg_agent() "
   ]
  },
  {
   "cell_type": "code",
   "execution_count": 7,
   "metadata": {
    "scrolled": true
   },
   "outputs": [
    {
     "name": "stdout",
     "output_type": "stream",
     "text": [
      "Episode: 20, Score: -0.0050, \tAverage Score: -0.0050, Time: 00:00:00 \n",
      "Episode: 40, Score: -0.0050, \tAverage Score: -0.0050, Time: 00:00:01 \n",
      "Episode: 60, Score: -0.0050, \tAverage Score: -0.0050, Time: 00:00:04 \n",
      "Episode: 80, Score: -0.0050, \tAverage Score: -0.0050, Time: 00:00:06 \n",
      "Episode: 100, Score: -0.0050, \tAverage Score: -0.0050, Time: 00:00:09 \n",
      "Episode: 120, Score: -0.0050, \tAverage Score: -0.0050, Time: 00:00:11 \n",
      "Episode: 140, Score: -0.0050, \tAverage Score: -0.0050, Time: 00:00:14 \n",
      "Episode: 160, Score: -0.0050, \tAverage Score: -0.0050, Time: 00:00:16 \n",
      "Episode: 180, Score: -0.0050, \tAverage Score: -0.0050, Time: 00:00:19 \n",
      "Episode: 200, Score: -0.0050, \tAverage Score: -0.0050, Time: 00:00:21 \n",
      "Episode: 220, Score: -0.0050, \tAverage Score: -0.0050, Time: 00:00:24 \n",
      "Episode: 240, Score: -0.0050, \tAverage Score: -0.0050, Time: 00:00:26 \n",
      "Episode: 260, Score: -0.0050, \tAverage Score: -0.0050, Time: 00:00:29 \n",
      "Episode: 280, Score: -0.0050, \tAverage Score: -0.0045, Time: 00:00:32 \n",
      "Episode: 300, Score: -0.0050, \tAverage Score: -0.0045, Time: 00:00:34 \n",
      "Episode: 320, Score: -0.0050, \tAverage Score: -0.0045, Time: 00:00:37 \n",
      "Episode: 340, Score: 0.0450, \tAverage Score: -0.0005, Time: 00:00:41 \n",
      "Episode: 360, Score: 0.0450, \tAverage Score: 0.0045, Time: 00:00:45 \n",
      "Episode: 380, Score: -0.0050, \tAverage Score: 0.0075, Time: 00:00:48 \n",
      "Episode: 400, Score: 0.0450, \tAverage Score: 0.0120, Time: 00:00:52 \n",
      "Episode: 420, Score: -0.0050, \tAverage Score: 0.0150, Time: 00:00:56 \n",
      "Episode: 440, Score: -0.0050, \tAverage Score: 0.0130, Time: 00:00:59 \n",
      "Episode: 460, Score: -0.0050, \tAverage Score: 0.0095, Time: 00:01:02 \n",
      "Episode: 480, Score: -0.0050, \tAverage Score: 0.0085, Time: 00:01:05 \n",
      "Episode: 500, Score: -0.0050, \tAverage Score: 0.0065, Time: 00:01:09 \n",
      "Episode: 520, Score: 0.0450, \tAverage Score: 0.0065, Time: 00:01:12 \n",
      "Episode: 540, Score: 0.0450, \tAverage Score: 0.0075, Time: 00:01:16 \n",
      "Episode: 560, Score: -0.0050, \tAverage Score: 0.0115, Time: 00:01:20 \n",
      "Episode: 580, Score: -0.0050, \tAverage Score: 0.0115, Time: 00:01:24 \n",
      "Episode: 600, Score: -0.0050, \tAverage Score: 0.0110, Time: 00:01:27 \n",
      "Episode: 620, Score: 0.0450, \tAverage Score: 0.0125, Time: 00:01:31 \n",
      "Episode: 640, Score: -0.0050, \tAverage Score: 0.0125, Time: 00:01:34 \n",
      "Episode: 660, Score: 0.0450, \tAverage Score: 0.0110, Time: 00:01:38 \n",
      "Episode: 680, Score: -0.0050, \tAverage Score: 0.0090, Time: 00:01:41 \n",
      "Episode: 700, Score: -0.0050, \tAverage Score: 0.0070, Time: 00:01:44 \n",
      "Episode: 720, Score: -0.0050, \tAverage Score: 0.0025, Time: 00:01:46 \n",
      "Episode: 740, Score: 0.0450, \tAverage Score: 0.0020, Time: 00:01:50 \n",
      "Episode: 760, Score: -0.0050, \tAverage Score: 0.0020, Time: 00:01:54 \n",
      "Episode: 780, Score: 0.0450, \tAverage Score: 0.0050, Time: 00:01:58 \n",
      "Episode: 800, Score: 0.0450, \tAverage Score: 0.0085, Time: 00:02:01 \n",
      "Episode: 820, Score: 0.0450, \tAverage Score: 0.0120, Time: 00:02:05 \n",
      "Episode: 840, Score: -0.0050, \tAverage Score: 0.0125, Time: 00:02:09 \n",
      "Episode: 860, Score: -0.0050, \tAverage Score: 0.0120, Time: 00:02:13 \n",
      "Episode: 880, Score: 0.0450, \tAverage Score: 0.0125, Time: 00:02:17 \n",
      "Episode: 900, Score: -0.0050, \tAverage Score: 0.0115, Time: 00:02:20 \n",
      "Episode: 920, Score: 0.0450, \tAverage Score: 0.0120, Time: 00:02:24 \n",
      "Episode: 940, Score: -0.0050, \tAverage Score: 0.0120, Time: 00:02:28 \n",
      "Episode: 960, Score: -0.0050, \tAverage Score: 0.0115, Time: 00:02:32 \n",
      "Episode: 980, Score: -0.0050, \tAverage Score: 0.0105, Time: 00:02:35 \n",
      "Episode: 1000, Score: -0.0050, \tAverage Score: 0.0100, Time: 00:02:39 \n"
     ]
    }
   ],
   "source": [
    "from collections import deque\n",
    "import time\n",
    "\n",
    "def train(maddpg, env, dir_chkpoints, n_episodes=1000, save_every=50):\n",
    "    \"\"\"Training loop helper for running the environment using the MADDPG algorithm.\n",
    "    Params\n",
    "    ======\n",
    "        maddpg: instance of maddpg_agent wrapper class\n",
    "        env (UnityEnvironment): instance of Unity environment for training\n",
    "        dir_chkpoints: directory to save model weights\n",
    "        n_episodes (int): number of episodes to train for\n",
    "        save_every (int): frequency to save model weights\n",
    "    \"\"\"\n",
    "    \n",
    "    solved = False\n",
    "    scores_total = []\n",
    "    scores_deque = deque(maxlen=100)\n",
    "    scores_global = []\n",
    "    best_score = 0.0\n",
    "    time_start = time.time()\n",
    "    \n",
    "    # Environment information\n",
    "    brain_name = env.brain_names[0]\n",
    "\n",
    "    # Used for learning period to update the model weights\n",
    "    global_step_number = 0\n",
    "    \n",
    "    for i_episode in range(1, n_episodes+1):\n",
    "        \n",
    "        env_info = env.reset(train_mode=True)[brain_name]\n",
    "        states = env_info.vector_observations\n",
    "                    \n",
    "        scores = np.zeros(num_agents)\n",
    "        maddpg.reset()\n",
    "\n",
    "        while True:\n",
    "            actions = maddpg.act(states)\n",
    "\n",
    "            env_info = env.step(actions)[brain_name]\n",
    "            next_states = env_info.vector_observations\n",
    "            rewards = env_info.rewards\n",
    "            dones = env_info.local_done\n",
    "            \n",
    "            global_step_number += 1\n",
    "            maddpg.step(states, actions, rewards, next_states, dones, global_step_number)\n",
    "\n",
    "            scores += rewards\n",
    "            states = next_states\n",
    "\n",
    "            if np.any(dones):\n",
    "                break\n",
    "        \n",
    "        mean_score = np.mean(scores) # mean on 2 agents\n",
    "        scores_total.append(mean_score)\n",
    "        scores_deque.append(mean_score) # mean on 2 agents for 100 episodes\n",
    "        score_average_100epis = np.mean(scores_deque) # value = mean on 100 episodes \n",
    "        scores_global.append(score_average_100epis) # \n",
    "        \n",
    "        print_every = 20\n",
    "        if i_episode % print_every == 0:\n",
    "            s = (int)(time.time() - time_start)\n",
    "            print('Episode: {}, Score: {:.4f}, \\tAverage Score: {:.4f}, Time: {:02}:{:02}:{:02} '\\\n",
    "                 .format(i_episode, mean_score,  score_average_100epis, s//3600, s%3600//60, s%60))\n",
    "\n",
    "        if score_average_100epis >= 0.5 and not solved:\n",
    "            print('\\n*** Environment solved in {:d} episodes!\\tAverage Score: {:.2f} ***\\n'.format(\n",
    "                i_episode, score_average_100epis))\n",
    "            solved = True\n",
    "            save_weights(dir_chkpoints)\n",
    "            best_score = score_average_100epis\n",
    "\n",
    "        if i_episode % save_every == 0 and solved:\n",
    "            # Only save these weights if they are better than the ones previously saved\n",
    "            if score_average_100epis > best_score:\n",
    "                best_score = score_average_100epis\n",
    "                save_weights(dir_chkpoints)\n",
    "                s = (int)(time.time() - time_start) \n",
    "                print('*** Episode {}\\tAverage Score: {:.2f}, Time: {:02}:{:02}:{:02} ***\\n '\\\n",
    "                     .format(i_episode, np.mean(scores_deque), s//3600, s%3600//60, s%60))  \n",
    "        \n",
    "\n",
    "    return scores_total, scores_global\n",
    "\n",
    "dir_chkpoints = 'weigths'\n",
    "scores_total, scores_global = train(maddpg, env, dir_chkpoints, n_episodes=1000)"
   ]
  },
  {
   "cell_type": "code",
   "execution_count": 8,
   "metadata": {},
   "outputs": [],
   "source": [
    "env.close()"
   ]
  }
 ],
 "metadata": {
  "kernelspec": {
   "display_name": "Python 3",
   "language": "python",
   "name": "python3"
  },
  "language_info": {
   "codemirror_mode": {
    "name": "ipython",
    "version": 3
   },
   "file_extension": ".py",
   "mimetype": "text/x-python",
   "name": "python",
   "nbconvert_exporter": "python",
   "pygments_lexer": "ipython3",
   "version": "3.6.12"
  }
 },
 "nbformat": 4,
 "nbformat_minor": 2
}
